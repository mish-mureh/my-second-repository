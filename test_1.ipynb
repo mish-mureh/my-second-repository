{
 "cells": [
  {
   "cell_type": "markdown",
   "metadata": {},
   "source": [
    "# Git commands  \n",
    "* Git add                * Git branch                \n",
    "* Git commit              * Git checkout\n",
    "* Git add                 * Git log\n",
    "* Git push\n",
    "* Git merge"
   ]
  },
  {
   "cell_type": "markdown",
   "metadata": {},
   "source": [
    "# summary of what i've learnt from canvas\n",
    "## Navigating directories\n",
    "### What are they;\n",
    "* cd (changing directroy)\n",
    "- mkdir (making directories)\n",
    "+ pwd (for checking which directory you are in > print working directory)\n",
    "+ nano ( for how to create and edit files from the command line)\n",
    "\n"
   ]
  },
  {
   "cell_type": "code",
   "execution_count": null,
   "metadata": {},
   "outputs": [],
   "source": []
  }
 ],
 "metadata": {
  "kernelspec": {
   "display_name": "Python 3",
   "language": "python",
   "name": "python3"
  },
  "language_info": {
   "codemirror_mode": {
    "name": "ipython",
    "version": 3
   },
   "file_extension": ".py",
   "mimetype": "text/x-python",
   "name": "python",
   "nbconvert_exporter": "python",
   "pygments_lexer": "ipython3",
   "version": "3.8.5"
  }
 },
 "nbformat": 4,
 "nbformat_minor": 4
}
